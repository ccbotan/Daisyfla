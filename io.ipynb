{
 "cells": [
  {
   "cell_type": "code",
   "execution_count": 3,
   "id": "e66536c4-7bb5-460d-9fe2-e9dd29759eb2",
   "metadata": {},
   "outputs": [],
   "source": [
    "import cv2\n",
    "import os"
   ]
  },
  {
   "cell_type": "code",
   "execution_count": 4,
   "id": "c5ee7d4b-800e-4d4e-b153-b2ebb9c7f5b6",
   "metadata": {},
   "outputs": [],
   "source": [
    "def imread_images(folder_path): \n",
    "    image_extensions = ['.jpg', '.png', '.jpeg', '.bmp']\n",
    "    images = []\n",
    "    try:\n",
    "        for filename in os.listdir(folder_path):\n",
    "            file_extension = os.path.splitext(filename)[1].lower()\n",
    "            if file_extension in image_extensions:\n",
    "                image_path = os.path.join(folder_path, filename)\n",
    "                image = cv2.imread(image_path)\n",
    "                if image is not None:\n",
    "                    images.append(image)\n",
    "    except FileNotFoundError:\n",
    "        print(\"文件未找到, 请检查文件路径是否有错\")\n",
    "    return images\n",
    "\n",
    "def display_images(images):\n",
    "    for i, img in enumerate(images):\n",
    "        cv2.imshow(f'Image{i + 1}', img)\n",
    "        cv2.waitKey(0) # 等待按键 \n",
    "        cv2.destroyAllWindows()\n",
    "\n",
    "def SobelDemo(image):\n",
    "    print(\"函数功能: OpenCV中的Sobel函数\\n\")\n",
    "    "
   ]
  },
  {
   "cell_type": "code",
   "execution_count": null,
   "id": "81ba2216-33d5-4d95-a026-cf1f92a6b840",
   "metadata": {},
   "outputs": [],
   "source": [
    "data_path = 'C:\\\\Users\\\\35096\\\\Desktop\\\\SC\\\\CV\\\\exp\\\\exp1\\\\attachments\\\\testImages'\n",
    "images=imread_images(data_path)\n",
    "display_images(images)"
   ]
  },
  {
   "cell_type": "markdown",
   "id": "44901102-dc05-4798-b6aa-e01b8b451fb4",
   "metadata": {},
   "source": [
    "OpenCV 是一个基于BSD许可(开源)发行的跨平台计算机视觉库, 它拥有C++、Python和Java 接口并可以运行在Windows、Linux、Max OS 操作系统和Android 上"
   ]
  },
  {
   "cell_type": "code",
   "execution_count": null,
   "id": "4a33bcdb-d869-4d06-8613-c9fd9f48c9ed",
   "metadata": {},
   "outputs": [],
   "source": []
  }
 ],
 "metadata": {
  "kernelspec": {
   "display_name": "Python 3 (ipykernel)",
   "language": "python",
   "name": "python3"
  },
  "language_info": {
   "codemirror_mode": {
    "name": "ipython",
    "version": 3
   },
   "file_extension": ".py",
   "mimetype": "text/x-python",
   "name": "python",
   "nbconvert_exporter": "python",
   "pygments_lexer": "ipython3",
   "version": "3.13.2"
  }
 },
 "nbformat": 4,
 "nbformat_minor": 5
}
